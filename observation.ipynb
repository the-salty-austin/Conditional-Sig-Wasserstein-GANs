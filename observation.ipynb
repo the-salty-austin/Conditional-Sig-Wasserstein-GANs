{
 "cells": [
  {
   "cell_type": "code",
   "execution_count": 1,
   "metadata": {},
   "outputs": [],
   "source": [
    "import numpy as np\n",
    "import pickle\n",
    "import pandas as pd\n",
    "import datetime\n",
    "import torch"
   ]
  },
  {
   "cell_type": "code",
   "execution_count": 12,
   "metadata": {},
   "outputs": [],
   "source": [
    "# path = \".\\\\numerical_results\\\\ARCH\\\\lag=3\\\\seed=0\\\\x_real_test.torch\"\n",
    "path = \".\\\\numerical_results\\\\STOCKS\\\\SPX\\\\seed=0\\\\x_real.torch\""
   ]
  },
  {
   "cell_type": "code",
   "execution_count": null,
   "metadata": {},
   "outputs": [],
   "source": [
    "with open(path, \"rb\") as f:\n",
    "    data = pickle.load(f)\n",
    "\n",
    "data"
   ]
  },
  {
   "cell_type": "code",
   "execution_count": 15,
   "metadata": {},
   "outputs": [
    {
     "data": {
      "text/plain": [
       "(tensor(1.9749e-06, device='cuda:0'), tensor(0.9996, device='cuda:0'))"
      ]
     },
     "execution_count": 15,
     "metadata": {},
     "output_type": "execute_result"
    }
   ],
   "source": [
    "data.mean(), data.std()"
   ]
  },
  {
   "cell_type": "code",
   "execution_count": 16,
   "metadata": {},
   "outputs": [
    {
     "data": {
      "text/plain": [
       "torch.Size([4634, 6, 2])"
      ]
     },
     "execution_count": 16,
     "metadata": {},
     "output_type": "execute_result"
    }
   ],
   "source": [
    "data.shape"
   ]
  },
  {
   "cell_type": "code",
   "execution_count": 21,
   "metadata": {},
   "outputs": [],
   "source": [
    "oxford = pd.read_csv(\".\\data\\oxfordmanrealizedvolatilityindices.csv\")"
   ]
  },
  {
   "cell_type": "code",
   "execution_count": 22,
   "metadata": {},
   "outputs": [],
   "source": [
    "start = '2005-01-01 00:00:00+01:00'\n",
    "end = '2020-01-01 00:00:00+01:00'\n",
    "\n",
    "df_spx = oxford[oxford['Symbol'] == '.SPX'].set_index(['Unnamed: 0'])[start:end]\n",
    "df_dji = oxford[oxford['Symbol'] == '.DJI'].set_index(['Unnamed: 0'])[start:end]\n",
    "index = df_dji.index.intersection(df_spx.index)\n",
    "df_dji = df_dji.loc[index]\n",
    "df_spx = df_spx.loc[index]\n",
    "price_spx = np.log(df_spx[['close_price']].values)\n",
    "rtn_spx = (price_spx[1:] - price_spx[:-1]).reshape(1, -1, 1)\n",
    "vol_spx = np.log(df_spx[['medrv']].values).reshape(1, -1, 1)\n",
    "price_dji = np.log(df_dji[['close_price']].values)\n",
    "rtn_dji = (price_dji[1:] - price_dji[:-1]).reshape(1, -1, 1)\n",
    "vol_dji = np.log(df_dji[['medrv']].values).reshape(1, -1, 1)\n",
    "data_raw = np.concatenate([rtn_spx, vol_spx[:, 1:], rtn_dji, vol_dji[:, 1:]], axis=-1)"
   ]
  },
  {
   "cell_type": "code",
   "execution_count": 30,
   "metadata": {},
   "outputs": [
    {
     "data": {
      "text/plain": [
       "(1, 3389, 4)"
      ]
     },
     "execution_count": 30,
     "metadata": {},
     "output_type": "execute_result"
    }
   ],
   "source": [
    "data_raw.shape"
   ]
  },
  {
   "cell_type": "code",
   "execution_count": null,
   "metadata": {},
   "outputs": [],
   "source": [
    "data_raw"
   ]
  },
  {
   "cell_type": "code",
   "execution_count": null,
   "metadata": {},
   "outputs": [],
   "source": [
    "df_spx"
   ]
  },
  {
   "cell_type": "code",
   "execution_count": null,
   "metadata": {},
   "outputs": [],
   "source": [
    "datasets = []\n",
    "start = datetime.datetime( 1970,  1,  1,  0,  0, 0 )\n",
    "end   = datetime.datetime( 2023, 12, 31, 23, 59, 0 )\n",
    "\n",
    "assets = (\"BTC\",\"ETH\")\n",
    "\n",
    "def transfer_percentage_seq(x):\n",
    "    start = x[:, 0:1, :]\n",
    "    # remove zero start\n",
    "    idx_ = torch.nonzero(start == 0, as_tuple=False).tolist()\n",
    "    if idx_:\n",
    "        idx_ = idx_[0]\n",
    "    idx_ = list(set(list(range(x.shape[0]))) - set(idx_))\n",
    "\n",
    "    new_x = x[idx_, ...]\n",
    "    new_start = start[idx_, ...]\n",
    "\n",
    "    new_x = (new_x - new_start) / new_start\n",
    "    return new_x\n",
    "\n",
    "def rolling_window(x, x_lag, add_batch_dim=True):\n",
    "    if add_batch_dim:\n",
    "        x = x[None, ...]\n",
    "    return torch.cat([x[:, t:t + x_lag] for t in range(x.shape[1] - x_lag)], dim=0)\n",
    "\n",
    "for asset in assets:\n",
    "    data = pd.read_csv(f'.\\\\data\\\\binance\\\\{asset}USDT_1h.csv').set_index('Unnamed: 0')\n",
    "    data['timestamp'] = pd.to_datetime(data['timestamp'], format='%Y-%m-%d %H:%M:%S') \n",
    "    data = data.set_index(['timestamp'])\n",
    "\n",
    "    if data.index[0] > start:\n",
    "        start = data.index[0]\n",
    "    if data.index[-1] < end:\n",
    "        end = data.index[-1]\n",
    "\n",
    "    data = data[start:end][[\"close\"]].to_numpy(dtype='float')\n",
    "    \n",
    "    data = torch.FloatTensor(data)\n",
    "    data = rolling_window(data, 5, add_batch_dim=True)\n",
    "    data = transfer_percentage_seq(data)\n",
    "\n",
    "    print(data)\n",
    "\n",
    "    datasets.append(data)\n",
    "    print(f'\\tRolled data for training, shape {list(data.shape)}')\n",
    "    # print('\\tExample : {:.6f}, {:.6f}, {:.6f} ...'.format(*[i.item() for i in dataset[0][:3]]))\n",
    "    print()"
   ]
  },
  {
   "cell_type": "code",
   "execution_count": null,
   "metadata": {},
   "outputs": [],
   "source": [
    "torch.cat(datasets, dim=1)"
   ]
  },
  {
   "cell_type": "code",
   "execution_count": 8,
   "metadata": {},
   "outputs": [
    {
     "data": {
      "text/plain": [
       "[tensor([[28380.5996],\n",
       "         [28571.9707],\n",
       "         [28872.2500],\n",
       "         ...,\n",
       "         [29470.8203],\n",
       "         [29544.0195],\n",
       "         [29550.0000]]),\n",
       " tensor([[ 727.3000],\n",
       "         [ 737.2000],\n",
       "         [ 739.8700],\n",
       "         ...,\n",
       "         [1879.2100],\n",
       "         [1884.0000],\n",
       "         [1883.0699]])]"
      ]
     },
     "execution_count": 8,
     "metadata": {},
     "output_type": "execute_result"
    }
   ],
   "source": [
    "datasets"
   ]
  },
  {
   "cell_type": "code",
   "execution_count": null,
   "metadata": {},
   "outputs": [],
   "source": [
    "assets = (\"BTC\",\"ETH\")\n",
    "datasets = []\n",
    "\n",
    "def rolling_window(x: torch.Tensor, n_lags: int):\n",
    "    \"\"\"\n",
    "    ex\n",
    "    \"\"\"\n",
    "    # https://www.geeksforgeeks.org/python-pytorch-stack-method/\n",
    "    return torch.stack([x[t:t + n_lags, :] for t in range(x.shape[0] - n_lags + 1)], dim=0)\n",
    "\n",
    "def transfer_percentage_seq(x):\n",
    "    start = x[:, 0 :1, :]\n",
    "    # remove zero start\n",
    "    idx_ = torch.nonzero(start == 0, as_tuple=False).tolist()\n",
    "    if idx_:\n",
    "        idx_ = idx_[0]\n",
    "    idx_ = list(set(list(range(x.shape[0]))) - set(idx_))\n",
    "\n",
    "    new_x = x[idx_, ...]\n",
    "    new_start = start[idx_, ...]\n",
    "\n",
    "    new_x = (new_x - new_start) / new_start\n",
    "    return new_x\n",
    "\n",
    "for asset in assets:\n",
    "    df = pd.read_csv(f'.\\\\data\\\\binance\\\\{asset}USDT_1h.csv')\n",
    "    # print(df)\n",
    "    print(f'Preprocess data: {asset}, shape {df.shape}')\n",
    "    dataset = df[['close']].to_numpy(dtype='float')\n",
    "    print(dataset)\n",
    "\n",
    "    dataset = torch.FloatTensor(dataset)\n",
    "    dataset = rolling_window(dataset, 5)\n",
    "    # dataset = transfer_percentage_seq(dataset)\n",
    "\n",
    "    datasets.append(dataset)\n",
    "\n",
    "    print(dataset)\n",
    "    print(f'\\tRolled data for training, shape {list(dataset.shape)}')\n",
    "    # print('\\tExample : {:.6f}, {:.6f}, {:.6f} ...'.format(*[i.item() for i in dataset[0][:3]]))\n",
    "    print()\n",
    "\n",
    "print(\"----------------------\")\n",
    "print(datasets)\n"
   ]
  },
  {
   "cell_type": "code",
   "execution_count": null,
   "metadata": {},
   "outputs": [],
   "source": []
  },
  {
   "cell_type": "code",
   "execution_count": 20,
   "metadata": {},
   "outputs": [],
   "source": [
    "experiment_x = torch.Tensor( [[[28380.5996,   727.3000],\n",
    "         [28571.9707,   737.2000],\n",
    "         [28872.2500,   739.8700],\n",
    "         [28897.8301,   738.8300],\n",
    "         [29126.6992,   743.9600],\n",
    "         [28571.9707,   737.2000],\n",
    "         [28872.2500,   739.8700],\n",
    "         [28897.8301,   738.8300],\n",
    "         [29126.6992,   743.9600],\n",
    "         [28966.3594,   738.2400],\n",
    "         [28872.2500,   739.8700],\n",
    "         [28897.8301,   738.8300],\n",
    "         [29126.6992,   743.9600],\n",
    "         [28966.3594,   738.2400],\n",
    "         [29100.8398,   740.4800]]] )"
   ]
  },
  {
   "cell_type": "code",
   "execution_count": 3,
   "metadata": {},
   "outputs": [
    {
     "data": {
      "text/plain": [
       "torch.Size([1, 15, 2])"
      ]
     },
     "execution_count": 3,
     "metadata": {},
     "output_type": "execute_result"
    }
   ],
   "source": [
    "experiment_x.shape"
   ]
  },
  {
   "cell_type": "code",
   "execution_count": 54,
   "metadata": {},
   "outputs": [],
   "source": [
    "def transfer_percentage_seq(x):\n",
    "    start = x[:, 0:1, :]\n",
    "    # remove zero start\n",
    "    idx_ = torch.nonzero(start == 0, as_tuple=False).tolist()\n",
    "    if idx_:\n",
    "        idx_ = idx_[0]\n",
    "    idx_ = list(set(list(range(x.shape[0]))) - set(idx_))\n",
    "\n",
    "    new_x = x[idx_, ...]\n",
    "    new_start = start[idx_, ...]\n",
    "\n",
    "    new_x = (new_x - new_start) / new_start\n",
    "    return new_x\n",
    "\n",
    "def rolling_window(x, p_lag, q_lag, add_batch_dim=True):\n",
    "    window = p_lag + q_lag\n",
    "    print(window, x.shape, x.shape[1]-window)\n",
    "    \n",
    "    # if add_batch_dim:\n",
    "    #     x = x[None, ...]\n",
    "\n",
    "    combined_segments = []\n",
    "    for t in range(x.shape[1]-window):\n",
    "        print(t)\n",
    "        # p_segment = x[:,:, t      :t+p_lag]\n",
    "        # q_segment = x[:,:, t+p_lag:t+window]\n",
    "        p_segment = x[:, t      :t+p_lag]\n",
    "        p_segment = transfer_percentage_seq(p_segment)\n",
    "        q_segment = x[:, t+p_lag:t+window]\n",
    "        q_segment = transfer_percentage_seq(q_segment)\n",
    "        combined_segment = torch.cat([p_segment, q_segment], dim=1)\n",
    "        combined_segments.append(combined_segment)\n",
    "        print( torch.cat([p_segment, q_segment], dim=1) )\n",
    "    \n",
    "    return torch.cat(combined_segments, dim=0)"
   ]
  },
  {
   "cell_type": "code",
   "execution_count": 56,
   "metadata": {},
   "outputs": [
    {
     "name": "stdout",
     "output_type": "stream",
     "text": [
      "6 torch.Size([1, 15, 2]) 9\n",
      "0\n",
      "tensor([[[ 0.0000,  0.0000],\n",
      "         [ 0.0067,  0.0136],\n",
      "         [ 0.0000,  0.0000],\n",
      "         [ 0.0009, -0.0014],\n",
      "         [ 0.0088,  0.0055],\n",
      "         [-0.0104, -0.0036]]])\n",
      "1\n",
      "tensor([[[ 0.0000,  0.0000],\n",
      "         [ 0.0105,  0.0036],\n",
      "         [ 0.0000,  0.0000],\n",
      "         [ 0.0079,  0.0069],\n",
      "         [-0.0113, -0.0022],\n",
      "         [-0.0009,  0.0014]]])\n",
      "2\n",
      "tensor([[[ 0.0000,  0.0000],\n",
      "         [ 0.0009, -0.0014],\n",
      "         [ 0.0000,  0.0000],\n",
      "         [-0.0190, -0.0091],\n",
      "         [-0.0087, -0.0055],\n",
      "         [-0.0079, -0.0069]]])\n",
      "3\n",
      "tensor([[[0.0000, 0.0000],\n",
      "         [0.0079, 0.0069],\n",
      "         [0.0000, 0.0000],\n",
      "         [0.0105, 0.0036],\n",
      "         [0.0114, 0.0022],\n",
      "         [0.0194, 0.0092]]])\n",
      "4\n",
      "tensor([[[ 0.0000,  0.0000],\n",
      "         [-0.0190, -0.0091],\n",
      "         [ 0.0000,  0.0000],\n",
      "         [ 0.0009, -0.0014],\n",
      "         [ 0.0088,  0.0055],\n",
      "         [ 0.0033, -0.0022]]])\n",
      "5\n",
      "tensor([[[ 0.0000,  0.0000],\n",
      "         [ 0.0105,  0.0036],\n",
      "         [ 0.0000,  0.0000],\n",
      "         [ 0.0079,  0.0069],\n",
      "         [ 0.0024, -0.0008],\n",
      "         [-0.0009,  0.0014]]])\n",
      "6\n",
      "tensor([[[ 0.0000,  0.0000],\n",
      "         [ 0.0009, -0.0014],\n",
      "         [ 0.0000,  0.0000],\n",
      "         [-0.0055, -0.0077],\n",
      "         [-0.0087, -0.0055],\n",
      "         [-0.0079, -0.0069]]])\n",
      "7\n",
      "tensor([[[ 0.0000,  0.0000],\n",
      "         [ 0.0079,  0.0069],\n",
      "         [ 0.0000,  0.0000],\n",
      "         [-0.0032,  0.0022],\n",
      "         [-0.0024,  0.0008],\n",
      "         [ 0.0055,  0.0077]]])\n",
      "8\n",
      "tensor([[[ 0.0000,  0.0000],\n",
      "         [-0.0055, -0.0077],\n",
      "         [ 0.0000,  0.0000],\n",
      "         [ 0.0009, -0.0014],\n",
      "         [ 0.0088,  0.0055],\n",
      "         [ 0.0033, -0.0022]]])\n"
     ]
    },
    {
     "data": {
      "text/plain": [
       "torch.Size([9, 6, 2])"
      ]
     },
     "execution_count": 56,
     "metadata": {},
     "output_type": "execute_result"
    }
   ],
   "source": [
    "res = rolling_window(experiment_x, 2,4)\n",
    "res.shape"
   ]
  },
  {
   "cell_type": "code",
   "execution_count": 12,
   "metadata": {},
   "outputs": [
    {
     "data": {
      "text/plain": [
       "tensor([[[28380.5996,   727.3000],\n",
       "         [28571.9707,   737.2000],\n",
       "         [28872.2500,   739.8700],\n",
       "         [28897.8301,   738.8300],\n",
       "         [29126.6992,   743.9600]],\n",
       "\n",
       "        [[28571.9707,   737.2000],\n",
       "         [28872.2500,   739.8700],\n",
       "         [28897.8301,   738.8300],\n",
       "         [29126.6992,   743.9600],\n",
       "         [28966.3594,   738.2400]],\n",
       "\n",
       "        [[28872.2500,   739.8700],\n",
       "         [28897.8301,   738.8300],\n",
       "         [29126.6992,   743.9600],\n",
       "         [28966.3594,   738.2400],\n",
       "         [29100.8398,   740.4800]],\n",
       "\n",
       "        ...,\n",
       "\n",
       "        [[29488.3594,  1880.2000],\n",
       "         [29460.0000,  1878.1899],\n",
       "         [29384.0098,  1873.8000],\n",
       "         [29412.1699,  1871.8800],\n",
       "         [29470.8203,  1879.2100]],\n",
       "\n",
       "        [[29460.0000,  1878.1899],\n",
       "         [29384.0098,  1873.8000],\n",
       "         [29412.1699,  1871.8800],\n",
       "         [29470.8203,  1879.2100],\n",
       "         [29544.0195,  1884.0000]],\n",
       "\n",
       "        [[29384.0098,  1873.8000],\n",
       "         [29412.1699,  1871.8800],\n",
       "         [29470.8203,  1879.2100],\n",
       "         [29544.0195,  1884.0000],\n",
       "         [29550.0000,  1883.0699]]])"
      ]
     },
     "execution_count": 12,
     "metadata": {},
     "output_type": "execute_result"
    }
   ],
   "source": [
    "torch.cat(datasets, dim=-1)"
   ]
  },
  {
   "cell_type": "code",
   "execution_count": 3,
   "metadata": {},
   "outputs": [],
   "source": [
    "matrix = [\n",
    "    [\n",
    "        [1,2,3],\n",
    "        [4,5,6]\n",
    "    ],[\n",
    "        [7,8,9],\n",
    "        [10,11,12]\n",
    "    ]\n",
    "]\n",
    "matrix = torch.Tensor(matrix)"
   ]
  },
  {
   "cell_type": "code",
   "execution_count": 5,
   "metadata": {},
   "outputs": [
    {
     "data": {
      "text/plain": [
       "tensor([[ 3.,  6.],\n",
       "        [ 9., 12.]])"
      ]
     },
     "execution_count": 5,
     "metadata": {},
     "output_type": "execute_result"
    }
   ],
   "source": [
    "matrix[..., 2]"
   ]
  },
  {
   "cell_type": "code",
   "execution_count": 7,
   "metadata": {},
   "outputs": [
    {
     "data": {
      "text/plain": [
       "tensor([[[ 2.,  3.],\n",
       "         [ 5.,  6.]],\n",
       "\n",
       "        [[ 8.,  9.],\n",
       "         [11., 12.]]])"
      ]
     },
     "execution_count": 7,
     "metadata": {},
     "output_type": "execute_result"
    }
   ],
   "source": [
    "matrix[..., [1,2] ]"
   ]
  }
 ],
 "metadata": {
  "kernelspec": {
   "display_name": "py37",
   "language": "python",
   "name": "python3"
  },
  "language_info": {
   "codemirror_mode": {
    "name": "ipython",
    "version": 3
   },
   "file_extension": ".py",
   "mimetype": "text/x-python",
   "name": "python",
   "nbconvert_exporter": "python",
   "pygments_lexer": "ipython3",
   "version": "3.7.16"
  },
  "orig_nbformat": 4
 },
 "nbformat": 4,
 "nbformat_minor": 2
}
